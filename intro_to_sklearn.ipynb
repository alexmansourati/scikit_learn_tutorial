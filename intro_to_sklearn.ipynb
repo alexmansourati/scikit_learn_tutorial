{
 "metadata": {
  "name": "",
  "signature": "sha256:d6572025ca2f16fe70b272376be6963df7a5ed5d12ad58e1ca224120d07e78c1"
 },
 "nbformat": 3,
 "nbformat_minor": 0,
 "worksheets": [
  {
   "cells": [
    {
     "cell_type": "heading",
     "level": 3,
     "metadata": {},
     "source": [
      "What is Machine Learning? "
     ]
    },
    {
     "cell_type": "code",
     "collapsed": false,
     "input": [
      "from IPython.display import HTML\n",
      "HTML('<iframe src=http://en.wikipedia.org/wiki/Machine_learning?useformat=mobile width=700 height=350></iframe>')"
     ],
     "language": "python",
     "metadata": {},
     "outputs": []
    },
    {
     "cell_type": "heading",
     "level": 3,
     "metadata": {},
     "source": [
      "We are learning from data. Using models/algorithms to discover patterns in data that we can use when presented with new data."
     ]
    },
    {
     "cell_type": "heading",
     "level": 5,
     "metadata": {},
     "source": [
      "There are many machine learning techniques available. We will explore one \"family\" of machine learning algorithms that takes inputs and desired outputs to build a learner which \"molds\" to the data. The model learns what patterns of features lead to different desired outputs, or target values. This model can then be taken to new inputs and predict an outcome! "
     ]
    },
    {
     "cell_type": "markdown",
     "metadata": {},
     "source": [
      " "
     ]
    },
    {
     "cell_type": "markdown",
     "metadata": {},
     "source": [
      " "
     ]
    },
    {
     "cell_type": "code",
     "collapsed": false,
     "input": [
      "from IPython.core.display import Image, display\n",
      "Image(url='http://nerd.kelseyinnis.com/talks/fptalk/images/function_machine.png')"
     ],
     "language": "python",
     "metadata": {},
     "outputs": []
    },
    {
     "cell_type": "code",
     "collapsed": false,
     "input": [
      "Image(url='http://www.eyeofthetiber.com/wp-content/uploads/2013/01/Magic.jpg')"
     ],
     "language": "python",
     "metadata": {},
     "outputs": []
    },
    {
     "cell_type": "code",
     "collapsed": false,
     "input": [
      "Image(url='http://liamtkearney.com/wp-content/uploads/2014/03/Liam-Kearney-Land-mark-forum-blog.jpeg')"
     ],
     "language": "python",
     "metadata": {},
     "outputs": []
    },
    {
     "cell_type": "code",
     "collapsed": false,
     "input": [
      "Image(url='http://www.numpy.org/_static/numpy_logo.png')"
     ],
     "language": "python",
     "metadata": {},
     "outputs": []
    },
    {
     "cell_type": "code",
     "collapsed": false,
     "input": [
      "Image(url='http://pandas.pydata.org/_static/pandas_logo.png')"
     ],
     "language": "python",
     "metadata": {},
     "outputs": []
    },
    {
     "cell_type": "code",
     "collapsed": false,
     "input": [
      "Image(url='http://scikit-learn.org/stable/_static/scikit-learn-logo-small.png')"
     ],
     "language": "python",
     "metadata": {},
     "outputs": []
    },
    {
     "cell_type": "heading",
     "level": 2,
     "metadata": {},
     "source": [
      "Classic Example: Classifying Spam Mail"
     ]
    },
    {
     "cell_type": "markdown",
     "metadata": {},
     "source": [
      "email1: \"Congratulations, you just won a cruise!  Just reply to this email with your credit card number, and we will send you all the things!\""
     ]
    },
    {
     "cell_type": "markdown",
     "metadata": {},
     "source": [
      "email2: \"blah blah blah enlargement pills blah blah blah\""
     ]
    },
    {
     "cell_type": "markdown",
     "metadata": {},
     "source": [
      "email3: \"Congratulations, you have been accepted to Queen's University!\""
     ]
    },
    {
     "cell_type": "heading",
     "level": 5,
     "metadata": {},
     "source": [
      "Lets grab some basic features of each email and build a small dataframe describing each email."
     ]
    },
    {
     "cell_type": "code",
     "collapsed": false,
     "input": [
      "import pandas as pd\n",
      "email_df = pd.DataFrame({'enlargement': [0,1,0], 'congratulations': [1,0,1], 'cruise': [1,0,0], 'queens':[0,0,1], 'spam':['yes','yes','no']})\n",
      "email_df.index = pd.Series(['email1', 'email2', 'email3'])\n",
      "email_df"
     ],
     "language": "python",
     "metadata": {},
     "outputs": []
    },
    {
     "cell_type": "code",
     "collapsed": false,
     "input": [
      "inputs = email_df[['congratulations', 'cruise', 'enlargement', 'queens']]"
     ],
     "language": "python",
     "metadata": {},
     "outputs": []
    },
    {
     "cell_type": "code",
     "collapsed": false,
     "input": [
      "inputs"
     ],
     "language": "python",
     "metadata": {},
     "outputs": []
    },
    {
     "cell_type": "code",
     "collapsed": false,
     "input": [
      "outputs = email_df['spam']"
     ],
     "language": "python",
     "metadata": {},
     "outputs": []
    },
    {
     "cell_type": "code",
     "collapsed": false,
     "input": [
      "outputs"
     ],
     "language": "python",
     "metadata": {},
     "outputs": []
    },
    {
     "cell_type": "code",
     "collapsed": false,
     "input": [
      "from sklearn.tree import DecisionTreeClassifier\n",
      "spam_classifier = DecisionTreeClassifier()"
     ],
     "language": "python",
     "metadata": {},
     "outputs": []
    },
    {
     "cell_type": "code",
     "collapsed": false,
     "input": [
      "Image(url='http://cs623-datamining.wikispaces.com/file/view/Figure_3.4.JPG/32036217/Figure_3.4.JPG')"
     ],
     "language": "python",
     "metadata": {},
     "outputs": []
    },
    {
     "cell_type": "heading",
     "level": 6,
     "metadata": {},
     "source": [
      "Random Forest?"
     ]
    },
    {
     "cell_type": "markdown",
     "metadata": {},
     "source": [
      " "
     ]
    },
    {
     "cell_type": "code",
     "collapsed": false,
     "input": [
      "inputs.values"
     ],
     "language": "python",
     "metadata": {},
     "outputs": []
    },
    {
     "cell_type": "code",
     "collapsed": false,
     "input": [
      "spam_classifier.fit(inputs.values, outputs.values)"
     ],
     "language": "python",
     "metadata": {},
     "outputs": []
    },
    {
     "cell_type": "code",
     "collapsed": false,
     "input": [
      "spam_classifier.predict(inputs.values)"
     ],
     "language": "python",
     "metadata": {},
     "outputs": []
    },
    {
     "cell_type": "heading",
     "level": 6,
     "metadata": {},
     "source": [
      "New email arrives..."
     ]
    },
    {
     "cell_type": "markdown",
     "metadata": {},
     "source": [
      "email4: \"Queen's Unviersity ranked first in galaxy, again\""
     ]
    },
    {
     "cell_type": "code",
     "collapsed": false,
     "input": [
      "new_email_df = pd.DataFrame({'enlargement': 0, 'congratulations': 0, 'cruise': 0, 'queens':1, 'spam':'?'}, index=['email4'])"
     ],
     "language": "python",
     "metadata": {},
     "outputs": []
    },
    {
     "cell_type": "code",
     "collapsed": false,
     "input": [
      "new_email_df"
     ],
     "language": "python",
     "metadata": {},
     "outputs": []
    },
    {
     "cell_type": "code",
     "collapsed": false,
     "input": [
      "new_input = new_email_df[['congratulations', 'cruise', 'enlargement', 'queens']]"
     ],
     "language": "python",
     "metadata": {},
     "outputs": []
    },
    {
     "cell_type": "code",
     "collapsed": false,
     "input": [
      "spam_classifier.predict(new_input.values)"
     ],
     "language": "python",
     "metadata": {},
     "outputs": []
    },
    {
     "cell_type": "markdown",
     "metadata": {},
     "source": [
      "email5: \"Congratulations! blah blah enlargement blah blah cruise blah blah Queen's blah blah!!\""
     ]
    },
    {
     "cell_type": "code",
     "collapsed": false,
     "input": [
      "another_email_df = pd.DataFrame({'enlargement': 1, 'congratulations': 1, 'cruise': 1, 'queens':1, 'spam':'?'}, index=['email5'])"
     ],
     "language": "python",
     "metadata": {},
     "outputs": []
    },
    {
     "cell_type": "code",
     "collapsed": false,
     "input": [
      "another_email_df"
     ],
     "language": "python",
     "metadata": {},
     "outputs": []
    },
    {
     "cell_type": "code",
     "collapsed": false,
     "input": [
      "another_input = another_email_df[['congratulations', 'cruise', 'enlargement', 'queens']]"
     ],
     "language": "python",
     "metadata": {},
     "outputs": []
    },
    {
     "cell_type": "code",
     "collapsed": false,
     "input": [
      "spam_classifier.predict(another_input.values)"
     ],
     "language": "python",
     "metadata": {},
     "outputs": []
    },
    {
     "cell_type": "markdown",
     "metadata": {},
     "source": [
      " "
     ]
    },
    {
     "cell_type": "heading",
     "level": 4,
     "metadata": {},
     "source": [
      "Classifier vs. Regressor"
     ]
    },
    {
     "cell_type": "markdown",
     "metadata": {},
     "source": [
      "Classifier - assigns a category (discrete value) to an observation."
     ]
    },
    {
     "cell_type": "markdown",
     "metadata": {},
     "source": [
      "Regressor - assigns a value (continuous value) to an observation."
     ]
    },
    {
     "cell_type": "heading",
     "level": 3,
     "metadata": {},
     "source": [
      "How do I use these models?"
     ]
    },
    {
     "cell_type": "markdown",
     "metadata": {},
     "source": [
      "Lucky for us, sklearn maintains a fairly common structure for using each of its learning tools.  This would make sense since we are usually supplying the tool with a matrix of inputs and a coresponding column of outputs. "
     ]
    },
    {
     "cell_type": "markdown",
     "metadata": {},
     "source": [
      "Remember, the problem we are faced with is a new observation that we need to assign a value to (for example, a category)"
     ]
    },
    {
     "cell_type": "heading",
     "level": 6,
     "metadata": {},
     "source": [
      "Quick intro to using Scikit"
     ]
    },
    {
     "cell_type": "markdown",
     "metadata": {},
     "source": [
      "SciKit algorithms generally require a 2-dimensinoal array:  [n_samples x n_features]\n",
      "- n_samples - the number of samples.  Each sample is something we would like to predict for. \n",
      "- n_features - features that we suspect will be predictive. Each feature is describing the sample in a quantitative manner. Should be real numbers (ie. can be discrete, continuous)."
     ]
    },
    {
     "cell_type": "markdown",
     "metadata": {},
     "source": [
      "Features must be real valued.  \n",
      "- dates: not real valued, need to convert to something algorithm can read\n",
      "- height (cm): real valued!\n",
      "- age: real valued!\n",
      "\n",
      "This is where feature engineering techniques come into play. In fact, the most important step in the model building process!"
     ]
    },
    {
     "cell_type": "markdown",
     "metadata": {},
     "source": [
      "Note that the number of features must be consistent across all samples (n_samples x n_features!).  "
     ]
    },
    {
     "cell_type": "heading",
     "level": 5,
     "metadata": {},
     "source": [
      "First step, fitting the model to our inputs/outputs."
     ]
    },
    {
     "cell_type": "code",
     "collapsed": false,
     "input": [
      "email_df"
     ],
     "language": "python",
     "metadata": {},
     "outputs": []
    },
    {
     "cell_type": "code",
     "collapsed": false,
     "input": [
      "outputs"
     ],
     "language": "python",
     "metadata": {},
     "outputs": []
    },
    {
     "cell_type": "code",
     "collapsed": false,
     "input": [
      "from sklearn.tree import DecisionTreeClassifier\n",
      "spam_classifier = DecisionTreeClassifier()"
     ],
     "language": "python",
     "metadata": {},
     "outputs": []
    },
    {
     "cell_type": "code",
     "collapsed": false,
     "input": [
      "inputs.values"
     ],
     "language": "python",
     "metadata": {},
     "outputs": []
    },
    {
     "cell_type": "code",
     "collapsed": false,
     "input": [
      "spam_classifier.fit(inputs.values, outputs.values)"
     ],
     "language": "python",
     "metadata": {},
     "outputs": []
    },
    {
     "cell_type": "code",
     "collapsed": false,
     "input": [
      "spam_classifier.predict(inputs.values)"
     ],
     "language": "python",
     "metadata": {},
     "outputs": []
    },
    {
     "cell_type": "markdown",
     "metadata": {},
     "source": [
      "email4: Harvard invites you to chat with our graduating Data Scientists."
     ]
    },
    {
     "cell_type": "code",
     "collapsed": false,
     "input": [
      "new_email_df = pd.DataFrame({'enlargement': 0, 'congratulations': 0, 'cruise': 0, 'harvard':1, 'spam':'?'}, index=['email4'])"
     ],
     "language": "python",
     "metadata": {},
     "outputs": []
    },
    {
     "cell_type": "code",
     "collapsed": false,
     "input": [
      "new_email_df"
     ],
     "language": "python",
     "metadata": {},
     "outputs": []
    },
    {
     "cell_type": "code",
     "collapsed": false,
     "input": [
      "new_inputs = new_email_df[['congratulations', 'cruise', 'enlargement', 'harvard']]"
     ],
     "language": "python",
     "metadata": {},
     "outputs": []
    },
    {
     "cell_type": "code",
     "collapsed": false,
     "input": [
      "spam_classifier.predict(new_inputs.values)"
     ],
     "language": "python",
     "metadata": {},
     "outputs": []
    },
    {
     "cell_type": "heading",
     "level": 5,
     "metadata": {},
     "source": [
      "Wait, you used the original inputs? You predicted the outputs of the inputs that were used to build the model?!"
     ]
    },
    {
     "cell_type": "markdown",
     "metadata": {},
     "source": [
      "This was a silly thing to do but raises an intersting point. In the real world, data is not clean. Our models will be built with data that tells opposing stories. Two observations can have identical patterns but result in a different category, or target value.  Applying the model to the data it was built with will not always be 100 percent correct (100% accuracy, precision etc). "
     ]
    },
    {
     "cell_type": "heading",
     "level": 6,
     "metadata": {},
     "source": [
      "Training and Testing Sets"
     ]
    },
    {
     "cell_type": "markdown",
     "metadata": {},
     "source": [
      "What we should be doing before applying a model to new observations, is test the model.  Test that the model is optimized - figure out if the parameters we chose to build the model are the best we could have chosen.  How can we do this if we have nothing to test it on?  We need a new set of data that also has outputs available to check model performance."
     ]
    },
    {
     "cell_type": "markdown",
     "metadata": {},
     "source": [
      "So, what we can do is split the data that we are given as model building data into what is commonly referred to as training and testing datasets."
     ]
    },
    {
     "cell_type": "markdown",
     "metadata": {},
     "source": [
      "This means we place a small portion (10-25%) of the given data as a test set and leave the rest for training.  We can build the model with the training set and use the test set to measure model performance - since we know the ACTUAL outputs, we can compare with the outputs given form our model.  "
     ]
    },
    {
     "cell_type": "markdown",
     "metadata": {},
     "source": [
      "There are many variations and more advanced techniques to train and test models but this is a good place to start. "
     ]
    },
    {
     "cell_type": "markdown",
     "metadata": {},
     "source": [
      "See Overfitting. See Cross Validation."
     ]
    },
    {
     "cell_type": "heading",
     "level": 5,
     "metadata": {},
     "source": [
      " "
     ]
    },
    {
     "cell_type": "markdown",
     "metadata": {},
     "source": [
      "Few more crucial model building steps that were not mentioned here but we will explore them as we start writing some code"
     ]
    }
   ],
   "metadata": {}
  }
 ]
}