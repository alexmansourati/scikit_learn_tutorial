{
 "metadata": {
  "name": "",
  "signature": "sha256:9b69a9b166aa54c4ef928f8efb6a6eb5f562f51168ed17755047d0d77e46f4ab"
 },
 "nbformat": 3,
 "nbformat_minor": 0,
 "worksheets": [
  {
   "cells": [
    {
     "cell_type": "code",
     "collapsed": false,
     "input": [
      "import numpy as np\n",
      "import pandas as pd\n",
      "import matplotlib.pyplot as plt\n",
      "import os\n",
      "import pandas as pd\n",
      "%matplotlib inline"
     ],
     "language": "python",
     "metadata": {},
     "outputs": []
    },
    {
     "cell_type": "code",
     "collapsed": false,
     "input": [
      "os.chdir('/src/')"
     ],
     "language": "python",
     "metadata": {},
     "outputs": []
    },
    {
     "cell_type": "code",
     "collapsed": false,
     "input": [
      "app = pd.read_csv(open('HackBikeShareTO-CycleApp.csv'))\n",
      "weather = pd.read_csv(open('HackBikeShareTO-Weather.csv'))\n",
      "bixie = pd.read_csv(open('HackBikeShareTO-Trips.csv'))"
     ],
     "language": "python",
     "metadata": {},
     "outputs": []
    },
    {
     "cell_type": "code",
     "collapsed": false,
     "input": [
      "app.head()"
     ],
     "language": "python",
     "metadata": {},
     "outputs": []
    },
    {
     "cell_type": "code",
     "collapsed": false,
     "input": [
      "len(np.unique(app['Trip ID']))"
     ],
     "language": "python",
     "metadata": {},
     "outputs": []
    },
    {
     "cell_type": "code",
     "collapsed": false,
     "input": [
      "app['Speed'].max()"
     ],
     "language": "python",
     "metadata": {},
     "outputs": []
    },
    {
     "cell_type": "code",
     "collapsed": false,
     "input": [
      "print min(app.Date)"
     ],
     "language": "python",
     "metadata": {},
     "outputs": []
    },
    {
     "cell_type": "code",
     "collapsed": false,
     "input": [
      "print max(app.Date)"
     ],
     "language": "python",
     "metadata": {},
     "outputs": []
    },
    {
     "cell_type": "code",
     "collapsed": false,
     "input": [
      "app['Speed'].hist()"
     ],
     "language": "python",
     "metadata": {},
     "outputs": []
    },
    {
     "cell_type": "code",
     "collapsed": false,
     "input": [
      "app['Speed'].max()"
     ],
     "language": "python",
     "metadata": {},
     "outputs": []
    },
    {
     "cell_type": "code",
     "collapsed": false,
     "input": [
      "app['Speed'].hist()"
     ],
     "language": "python",
     "metadata": {},
     "outputs": []
    },
    {
     "cell_type": "code",
     "collapsed": false,
     "input": [
      "weather.head()"
     ],
     "language": "python",
     "metadata": {},
     "outputs": []
    },
    {
     "cell_type": "code",
     "collapsed": false,
     "input": [
      "weather['Precipitation_MM'].hist(bins=40)"
     ],
     "language": "python",
     "metadata": {},
     "outputs": []
    },
    {
     "cell_type": "code",
     "collapsed": false,
     "input": [
      "weather.columns = ['date', 'max_temperature', 'mean_temperature', 'min_temperature', 'precipitation']"
     ],
     "language": "python",
     "metadata": {},
     "outputs": []
    },
    {
     "cell_type": "code",
     "collapsed": false,
     "input": [
      "bixie.head()"
     ],
     "language": "python",
     "metadata": {},
     "outputs": []
    },
    {
     "cell_type": "code",
     "collapsed": false,
     "input": [
      "len(bixie[bixie['Subscription Type'] == 'Registered']) / float(len(bixie))"
     ],
     "language": "python",
     "metadata": {},
     "outputs": []
    },
    {
     "cell_type": "heading",
     "level": 1,
     "metadata": {},
     "source": [
      "Setting the Goal"
     ]
    },
    {
     "cell_type": "markdown",
     "metadata": {},
     "source": [
      "We want to be able to be able to predict how long it will take for a rider to get from one place to another. \n",
      "Google maps offers a time of trip, but can we do better?  Can we incorproate weather? Does time of day have an effect?  \n",
      "Can we classify slow riding days?\n",
      "Are some riders slower than others?"
     ]
    },
    {
     "cell_type": "heading",
     "level": 6,
     "metadata": {},
     "source": [
      "Turns out that......"
     ]
    },
    {
     "cell_type": "heading",
     "level": 4,
     "metadata": {},
     "source": [
      "Set up data such that rows are observations"
     ]
    },
    {
     "cell_type": "code",
     "collapsed": false,
     "input": [
      "app.head()"
     ],
     "language": "python",
     "metadata": {},
     "outputs": []
    },
    {
     "cell_type": "code",
     "collapsed": false,
     "input": [
      "trips_start = app.groupby('Trip ID').first()\n",
      "trips_end = app.groupby('Trip ID').last()\n",
      "trips = trips_start.join(trips_end, lsuffix=' Start', rsuffix=' End')"
     ],
     "language": "python",
     "metadata": {},
     "outputs": []
    },
    {
     "cell_type": "code",
     "collapsed": false,
     "input": [
      "trips.columns"
     ],
     "language": "python",
     "metadata": {},
     "outputs": []
    },
    {
     "cell_type": "code",
     "collapsed": false,
     "input": [
      "trips.columns = ['coordinate_id_start', 'longitude_start', 'latitude_start', 'altitude_start', 'speed_start', \n",
      "                 'horizontal_accuracy_start', 'vertical_accuracy_start', 'date_start', 'coordinate_id_end', \n",
      "                 'longitude_end', 'latitude_end', 'altitude_end', 'speed_end', 'horizontal_accuracy_end', \n",
      "                 'vertical_accuracy_end', 'date_end']"
     ],
     "language": "python",
     "metadata": {},
     "outputs": []
    },
    {
     "cell_type": "code",
     "collapsed": false,
     "input": [
      "trips.head()"
     ],
     "language": "python",
     "metadata": {},
     "outputs": []
    },
    {
     "cell_type": "heading",
     "level": 4,
     "metadata": {},
     "source": [
      "Build our target values"
     ]
    },
    {
     "cell_type": "code",
     "collapsed": false,
     "input": [
      "app.groupby('Trip ID').std().Speed.hist(bins=50)"
     ],
     "language": "python",
     "metadata": {},
     "outputs": []
    },
    {
     "cell_type": "code",
     "collapsed": false,
     "input": [
      "trip_max = app.groupby('Trip ID').median()\n",
      "trips = trips.join(trip_max['Speed'])\n",
      "trips = trips.rename(columns={'Speed':'speed'})"
     ],
     "language": "python",
     "metadata": {},
     "outputs": []
    },
    {
     "cell_type": "code",
     "collapsed": false,
     "input": [
      "trips.speed"
     ],
     "language": "python",
     "metadata": {},
     "outputs": []
    },
    {
     "cell_type": "markdown",
     "metadata": {},
     "source": [
      "Lets investigate what we have"
     ]
    },
    {
     "cell_type": "code",
     "collapsed": false,
     "input": [
      "trips.columns"
     ],
     "language": "python",
     "metadata": {},
     "outputs": []
    },
    {
     "cell_type": "code",
     "collapsed": false,
     "input": [
      "trips['speed'].hist(bins=20)"
     ],
     "language": "python",
     "metadata": {},
     "outputs": []
    },
    {
     "cell_type": "code",
     "collapsed": false,
     "input": [
      "max(trips['speed'])"
     ],
     "language": "python",
     "metadata": {},
     "outputs": []
    },
    {
     "cell_type": "markdown",
     "metadata": {},
     "source": [
      "Negaitve speed?"
     ]
    },
    {
     "cell_type": "markdown",
     "metadata": {},
     "source": [
      "Under hackathon conditions, lets discard"
     ]
    },
    {
     "cell_type": "code",
     "collapsed": false,
     "input": [
      "len(trips[trips.speed < 0])"
     ],
     "language": "python",
     "metadata": {},
     "outputs": []
    },
    {
     "cell_type": "code",
     "collapsed": false,
     "input": [
      "len(trips)"
     ],
     "language": "python",
     "metadata": {},
     "outputs": []
    },
    {
     "cell_type": "code",
     "collapsed": false,
     "input": [
      "trips = trips[trips.speed >= 0]"
     ],
     "language": "python",
     "metadata": {},
     "outputs": []
    },
    {
     "cell_type": "code",
     "collapsed": false,
     "input": [
      "trips['lat_delta'] = trips['latitude_end'] - trips['latitude_start']\n",
      "trips['lon_delta'] = trips['longitude_end'] - trips['longitude_start']\n",
      "trips['alt_delta'] = trips['altitude_end'] - trips['altitude_start']"
     ],
     "language": "python",
     "metadata": {},
     "outputs": []
    },
    {
     "cell_type": "heading",
     "level": 4,
     "metadata": {},
     "source": [
      "Building our features"
     ]
    },
    {
     "cell_type": "code",
     "collapsed": false,
     "input": [
      "trips.head()"
     ],
     "language": "python",
     "metadata": {},
     "outputs": []
    },
    {
     "cell_type": "code",
     "collapsed": false,
     "input": [
      "trips['date_start'] = pd.to_datetime(trips['date_start'])"
     ],
     "language": "python",
     "metadata": {},
     "outputs": []
    },
    {
     "cell_type": "code",
     "collapsed": false,
     "input": [
      "hours = []\n",
      "for i in range(len(trips)):\n",
      "    hours.append(trips.iloc[i].date_start.hour)"
     ],
     "language": "python",
     "metadata": {},
     "outputs": []
    },
    {
     "cell_type": "code",
     "collapsed": false,
     "input": [
      "trips['hour_of_day'] = pd.Series(hours, index = trips.index)"
     ],
     "language": "python",
     "metadata": {},
     "outputs": []
    },
    {
     "cell_type": "heading",
     "level": 4,
     "metadata": {},
     "source": [
      "Easier way to do this same operation!"
     ]
    },
    {
     "cell_type": "code",
     "collapsed": false,
     "input": [
      "trips =  trips.drop('hour_of_day', axis=1)"
     ],
     "language": "python",
     "metadata": {},
     "outputs": []
    },
    {
     "cell_type": "code",
     "collapsed": false,
     "input": [
      "trips.columns"
     ],
     "language": "python",
     "metadata": {},
     "outputs": []
    },
    {
     "cell_type": "code",
     "collapsed": false,
     "input": [
      "def get_hour_of_day(date):\n",
      "    return date.hour"
     ],
     "language": "python",
     "metadata": {},
     "outputs": []
    },
    {
     "cell_type": "code",
     "collapsed": false,
     "input": [
      "trips['hour_of_day'] = trips.apply(lambda row: get_hour_of_day(row.date_start), axis=1)"
     ],
     "language": "python",
     "metadata": {},
     "outputs": []
    },
    {
     "cell_type": "code",
     "collapsed": false,
     "input": [
      "trips.hour_of_day"
     ],
     "language": "python",
     "metadata": {},
     "outputs": []
    },
    {
     "cell_type": "heading",
     "level": 4,
     "metadata": {},
     "source": [
      "Build more features!"
     ]
    },
    {
     "cell_type": "markdown",
     "metadata": {},
     "source": [
      "Day of week?"
     ]
    },
    {
     "cell_type": "code",
     "collapsed": false,
     "input": [
      "from datetime import datetime\n",
      "now = datetime.now()"
     ],
     "language": "python",
     "metadata": {},
     "outputs": []
    },
    {
     "cell_type": "code",
     "collapsed": false,
     "input": [
      "now.weekday()"
     ],
     "language": "python",
     "metadata": {},
     "outputs": []
    },
    {
     "cell_type": "code",
     "collapsed": false,
     "input": [
      "def get_day_of_week(date):\n",
      "    return date.weekday()\n",
      "\n",
      "trips['day_of_week'] = trips.apply(lambda row: get_day_of_week(row['date_start']), axis=1)"
     ],
     "language": "python",
     "metadata": {},
     "outputs": []
    },
    {
     "cell_type": "markdown",
     "metadata": {},
     "source": [
      "Weekend?"
     ]
    },
    {
     "cell_type": "code",
     "collapsed": false,
     "input": [
      "def get_weekend(day_num):\n",
      "    if day_num in [5,6]:\n",
      "        return 1\n",
      "    return 0\n",
      "\n",
      "trips['weekend'] = trips.apply(lambda row: get_weekend(row['day_of_week']), axis=1)"
     ],
     "language": "python",
     "metadata": {},
     "outputs": []
    },
    {
     "cell_type": "code",
     "collapsed": false,
     "input": [
      "trips.columns"
     ],
     "language": "python",
     "metadata": {},
     "outputs": []
    },
    {
     "cell_type": "heading",
     "level": 6,
     "metadata": {},
     "source": [
      "We have built all the quick/easy feautres from this data. Lets go for some more quick wins - bring in some external data.  Bikeshare hackathon folks were awesome enough to prepare a weather dataset for us!"
     ]
    },
    {
     "cell_type": "code",
     "collapsed": false,
     "input": [
      "weather.head()"
     ],
     "language": "python",
     "metadata": {},
     "outputs": []
    },
    {
     "cell_type": "code",
     "collapsed": false,
     "input": [
      "def get_raining(rain):\n",
      "    if rain > 0:\n",
      "        return 1\n",
      "    return 0\n",
      "\n",
      "weather['raining'] = weather.apply(lambda row: get_raining(row['precipitation']), axis=1)"
     ],
     "language": "python",
     "metadata": {},
     "outputs": []
    },
    {
     "cell_type": "code",
     "collapsed": false,
     "input": [
      "weather.date"
     ],
     "language": "python",
     "metadata": {},
     "outputs": []
    },
    {
     "cell_type": "code",
     "collapsed": false,
     "input": [
      "min(trips.date_start)"
     ],
     "language": "python",
     "metadata": {},
     "outputs": []
    },
    {
     "cell_type": "code",
     "collapsed": false,
     "input": [
      "max(trips.date_start)"
     ],
     "language": "python",
     "metadata": {},
     "outputs": []
    },
    {
     "cell_type": "code",
     "collapsed": false,
     "input": [
      "weather['date'] = pd.to_datetime(weather['date'], format='%m-%d-%Y')"
     ],
     "language": "python",
     "metadata": {},
     "outputs": []
    },
    {
     "cell_type": "code",
     "collapsed": false,
     "input": [
      "weather.head().date"
     ],
     "language": "python",
     "metadata": {},
     "outputs": []
    },
    {
     "cell_type": "heading",
     "level": 4,
     "metadata": {},
     "source": [
      "Merge weather with our trips dataset!\n"
     ]
    },
    {
     "cell_type": "code",
     "collapsed": false,
     "input": [
      "trips.head().date_start"
     ],
     "language": "python",
     "metadata": {},
     "outputs": []
    },
    {
     "cell_type": "markdown",
     "metadata": {},
     "source": [
      "Needs to look like weather data date for merging"
     ]
    },
    {
     "cell_type": "code",
     "collapsed": false,
     "input": [
      "print trips['date_start'].iloc[0].date()"
     ],
     "language": "python",
     "metadata": {},
     "outputs": []
    },
    {
     "cell_type": "code",
     "collapsed": false,
     "input": [
      "def remove_time(row):\n",
      "    return row['date_start'].date()\n",
      "\n",
      "trips['day'] = trips.apply(lambda row: remove_time(row), axis=1)"
     ],
     "language": "python",
     "metadata": {},
     "outputs": []
    },
    {
     "cell_type": "code",
     "collapsed": false,
     "input": [
      "trips = pd.merge(trips, weather, left_on='day', right_on='date', how='left')"
     ],
     "language": "python",
     "metadata": {},
     "outputs": []
    },
    {
     "cell_type": "code",
     "collapsed": false,
     "input": [
      "trips.columns"
     ],
     "language": "python",
     "metadata": {},
     "outputs": []
    },
    {
     "cell_type": "heading",
     "level": 5,
     "metadata": {},
     "source": [
      "Deal with categorial variables - larger value does not have to do with severity of value.  Model will not know this."
     ]
    },
    {
     "cell_type": "code",
     "collapsed": false,
     "input": [
      "trips = pd.concat([\n",
      "                    trips,\n",
      "                    pd.get_dummies(trips.hour_of_day, prefix='hour'),\n",
      "                    pd.get_dummies(trips.day_of_week, prefix='day')\n",
      "                   ],\n",
      "                    axis=1\n",
      "                   )"
     ],
     "language": "python",
     "metadata": {},
     "outputs": []
    },
    {
     "cell_type": "markdown",
     "metadata": {},
     "source": [
      "Remove anyting that we don't want our model to learn from "
     ]
    },
    {
     "cell_type": "code",
     "collapsed": false,
     "input": [
      "columns = trips.columns\n",
      "columns_to_drop = ['coordinate_id_start', 'latitude_start', 'longitude_start', 'latitude_end', 'longitude_end', 'hour_of_day', 'day_of_week', 'speed_start', 'speed_end', 'date_start', 'coordinate_id_end',\n",
      "                   'day', 'date', 'horizontal_accuracy_start', 'vertical_accuracy_start', 'horizontal_accuracy_end',\n",
      "                   'vertical_accuracy_end', 'date_end', 'altitude_start', 'altitude_end']\n",
      "columns_to_keep = [i for i in columns if i not in columns_to_drop]\n",
      "trips = trips[columns_to_keep]"
     ],
     "language": "python",
     "metadata": {},
     "outputs": []
    },
    {
     "cell_type": "code",
     "collapsed": false,
     "input": [
      "trips.columns"
     ],
     "language": "python",
     "metadata": {},
     "outputs": []
    },
    {
     "cell_type": "heading",
     "level": 4,
     "metadata": {},
     "source": [
      "We were also given data from the Bixie system. Can we use this data? "
     ]
    },
    {
     "cell_type": "code",
     "collapsed": false,
     "input": [
      "bixie.head()"
     ],
     "language": "python",
     "metadata": {},
     "outputs": []
    },
    {
     "cell_type": "code",
     "collapsed": false,
     "input": [
      "distances = pd.read_csv(open('distances_output.csv'), header=None)\n",
      "distances.columns = ['Start Station Name', 'End Station Name', 'distance', 'start_lat', \n",
      "                     'start_lon', 'altitude_start', 'end_lon', 'end_lat', 'altitude_end']"
     ],
     "language": "python",
     "metadata": {},
     "outputs": []
    },
    {
     "cell_type": "code",
     "collapsed": false,
     "input": [
      "distances['concat'] = distances['Start Station Name'] + distances['End Station Name']\n",
      "bixie['concat'] = bixie['Start Station Name'] + ' ' + bixie['End Station Name']"
     ],
     "language": "python",
     "metadata": {},
     "outputs": []
    },
    {
     "cell_type": "code",
     "collapsed": false,
     "input": [
      "bixie_with_distance = pd.merge(bixie, distances, left_on='concat', right_on='concat', \n",
      "                     how='left', suffixes=(' bixie', ' distances')).dropna()"
     ],
     "language": "python",
     "metadata": {},
     "outputs": []
    },
    {
     "cell_type": "code",
     "collapsed": false,
     "input": [
      "bixie_with_distance.columns"
     ],
     "language": "python",
     "metadata": {},
     "outputs": []
    },
    {
     "cell_type": "code",
     "collapsed": false,
     "input": [
      "bixie_with_distance['hours'] = bixie_with_distance.apply(lambda row: float(row['Duration'][-5:-3])/60 + float(row['Duration'][-7]),\n",
      "                                                         axis=1)"
     ],
     "language": "python",
     "metadata": {},
     "outputs": []
    },
    {
     "cell_type": "code",
     "collapsed": false,
     "input": [
      "bixie_with_distance['Start Date'] = pd.to_datetime(bixie_with_distance['Start Date'])"
     ],
     "language": "python",
     "metadata": {},
     "outputs": []
    },
    {
     "cell_type": "code",
     "collapsed": false,
     "input": [
      "def remove_time(row):\n",
      "    return pd.to_datetime(row['Start Date'].date())\n",
      "\n",
      "bixie_with_distance['day'] = bixie_with_distance.apply(lambda row: remove_time(row), axis=1)"
     ],
     "language": "python",
     "metadata": {},
     "outputs": []
    },
    {
     "cell_type": "code",
     "collapsed": false,
     "input": [
      "bixie_with_weather = pd.merge(bixie_with_distance, weather, left_on='day', right_on='date', how='left')"
     ],
     "language": "python",
     "metadata": {},
     "outputs": []
    },
    {
     "cell_type": "code",
     "collapsed": false,
     "input": [
      "bixie_with_weather.columns"
     ],
     "language": "python",
     "metadata": {},
     "outputs": []
    },
    {
     "cell_type": "code",
     "collapsed": false,
     "input": [
      "bixie_with_weather['Latitude_Start'] = bixie_with_weather['start_lat']\n",
      "bixie_with_weather['Longitude_Start'] = bixie_with_weather['start_lon']\n",
      "bixie_with_weather['day_of_week'] = bixie_with_weather.apply(lambda x: get_day_of_week(x['Start Date']), axis=1)\n",
      "bixie_with_weather['weekend'] = bixie_with_weather.apply(lambda x: get_weekend(x['day_of_week']), axis = 1)\n",
      "bixie_with_weather['lat_delta'] = bixie_with_weather['end_lat'] - bixie_with_weather['start_lat']\n",
      "bixie_with_weather['lon_delta'] = bixie_with_weather['end_lon'] - bixie_with_weather['start_lon']\n",
      "bixie_with_weather['alt_delta'] = bixie_with_weather['altitude_end'] - bixie_with_weather['altitude_start']"
     ],
     "language": "python",
     "metadata": {},
     "outputs": []
    },
    {
     "cell_type": "code",
     "collapsed": false,
     "input": [
      "def calc_speed(row):\n",
      "    if row.hours != 0:\n",
      "        return float(row.distance)/row.hours\n",
      "    return 0\n",
      "\n",
      "bixie_with_weather['speed'] = bixie_with_weather.apply(lambda row: calc_speed(row), axis=1)"
     ],
     "language": "python",
     "metadata": {},
     "outputs": []
    },
    {
     "cell_type": "markdown",
     "metadata": {},
     "source": [
      "Lets attach our bixie data to our trips dataset"
     ]
    },
    {
     "cell_type": "code",
     "collapsed": false,
     "input": [
      "trips.columns"
     ],
     "language": "python",
     "metadata": {},
     "outputs": []
    },
    {
     "cell_type": "code",
     "collapsed": false,
     "input": [
      "bixie_with_weather.columns"
     ],
     "language": "python",
     "metadata": {},
     "outputs": []
    },
    {
     "cell_type": "code",
     "collapsed": false,
     "input": [
      "bixie_final = bixie_with_weather[['Start Date', 'speed', 'lat_delta', 'lon_delta', 'alt_delta', 'max_temperature', \n",
      "                                  'mean_temperature', 'min_temperature', 'precipitation', 'raining']]\n",
      "bixie_target = bixie_with_weather['speed']"
     ],
     "language": "python",
     "metadata": {},
     "outputs": []
    },
    {
     "cell_type": "code",
     "collapsed": false,
     "input": [
      "bixie_final['Start Date'].head()"
     ],
     "language": "python",
     "metadata": {},
     "outputs": []
    },
    {
     "cell_type": "code",
     "collapsed": false,
     "input": [
      "bixie_final['hour_of_day'] = bixie_final.apply(lambda row: get_hour_of_day(row['Start Date']), axis=1)\n",
      "bixie_final['day_of_week'] = bixie_final.apply(lambda row: get_day_of_week(row['Start Date']), axis=1)\n",
      "bixie_final['weekend'] = bixie_final.apply(lambda row: get_weekend(row['day_of_week']), axis=1)"
     ],
     "language": "python",
     "metadata": {},
     "outputs": []
    },
    {
     "cell_type": "code",
     "collapsed": false,
     "input": [
      "bixie_final[bixie_final.speed > 50].speed.hist()"
     ],
     "language": "python",
     "metadata": {},
     "outputs": []
    },
    {
     "cell_type": "heading",
     "level": 5,
     "metadata": {},
     "source": [
      "Error in our distance measure?  Bixie bikes being redistributed by automobile?"
     ]
    },
    {
     "cell_type": "code",
     "collapsed": false,
     "input": [
      "fast_rides = bixie_with_weather[bixie_with_weather.speed > 250]\n",
      "fast_rides.groupby(['Start Station Name bixie', 'End Station Name bixie']).count().sort('Trip ID', ascending = False)['Trip ID'].head()"
     ],
     "language": "python",
     "metadata": {},
     "outputs": []
    },
    {
     "cell_type": "heading",
     "level": 3,
     "metadata": {},
     "source": [
      "Lets get rid of the fast rides"
     ]
    },
    {
     "cell_type": "code",
     "collapsed": false,
     "input": [
      "bixie_final = bixie_final[bixie_final.speed < 50]"
     ],
     "language": "python",
     "metadata": {},
     "outputs": []
    },
    {
     "cell_type": "code",
     "collapsed": false,
     "input": [
      "bixie_final = pd.concat([\n",
      "                           bixie_final,\n",
      "                           pd.get_dummies(bixie_final.hour_of_day, prefix='hour'),\n",
      "                           pd.get_dummies(bixie_final.day_of_week, prefix='day')\n",
      "                          ],\n",
      "                           axis=1\n",
      "                   )\n",
      "\n",
      "bixie_final = bixie_final.drop(['Start Date', 'hour_of_day', 'day_of_week'], axis = 1)"
     ],
     "language": "python",
     "metadata": {},
     "outputs": []
    },
    {
     "cell_type": "code",
     "collapsed": false,
     "input": [
      "set(bixie_final.columns) -  set(trips.columns)"
     ],
     "language": "python",
     "metadata": {},
     "outputs": []
    },
    {
     "cell_type": "code",
     "collapsed": false,
     "input": [
      "trips['hour_2'] = pd.Series([0]*len(trips))\n",
      "trips['hour_3'] = pd.Series([0]*len(trips))"
     ],
     "language": "python",
     "metadata": {},
     "outputs": []
    },
    {
     "cell_type": "code",
     "collapsed": false,
     "input": [
      "set(bixie_final.columns) -  set(trips.columns)"
     ],
     "language": "python",
     "metadata": {},
     "outputs": []
    },
    {
     "cell_type": "code",
     "collapsed": false,
     "input": [
      "bixie_final.columns = trips.columns"
     ],
     "language": "python",
     "metadata": {},
     "outputs": []
    },
    {
     "cell_type": "code",
     "collapsed": false,
     "input": [
      "bixie_final.columns == trips.columns"
     ],
     "language": "python",
     "metadata": {},
     "outputs": []
    },
    {
     "cell_type": "markdown",
     "metadata": {},
     "source": [
      "Exact same columns, lets combine"
     ]
    },
    {
     "cell_type": "code",
     "collapsed": false,
     "input": [
      "print len(bixie_final), len(trips), len(bixie_final)+len(trips)"
     ],
     "language": "python",
     "metadata": {},
     "outputs": []
    },
    {
     "cell_type": "code",
     "collapsed": false,
     "input": [
      "trips_final = pd.concat([bixie_final, trips])"
     ],
     "language": "python",
     "metadata": {},
     "outputs": []
    },
    {
     "cell_type": "code",
     "collapsed": false,
     "input": [
      "trips_final.columns"
     ],
     "language": "python",
     "metadata": {},
     "outputs": []
    },
    {
     "cell_type": "heading",
     "level": 5,
     "metadata": {},
     "source": [
      "Data for Modelling"
     ]
    },
    {
     "cell_type": "code",
     "collapsed": false,
     "input": [
      "trips_final.count()"
     ],
     "language": "python",
     "metadata": {},
     "outputs": []
    },
    {
     "cell_type": "markdown",
     "metadata": {},
     "source": [
      "Missing vaues are related to our weather data - we must be missing days in weather data"
     ]
    },
    {
     "cell_type": "code",
     "collapsed": false,
     "input": [
      "trips_final = trips_final.dropna()"
     ],
     "language": "python",
     "metadata": {},
     "outputs": []
    },
    {
     "cell_type": "code",
     "collapsed": false,
     "input": [
      "trips_final.speed"
     ],
     "language": "python",
     "metadata": {},
     "outputs": []
    },
    {
     "cell_type": "code",
     "collapsed": false,
     "input": [
      "target_values = trips_final['speed']\n",
      "model_features = trips_final.drop('speed', axis=1)"
     ],
     "language": "python",
     "metadata": {},
     "outputs": []
    },
    {
     "cell_type": "code",
     "collapsed": false,
     "input": [
      "len(model_features.dropna())"
     ],
     "language": "python",
     "metadata": {},
     "outputs": []
    },
    {
     "cell_type": "code",
     "collapsed": false,
     "input": [
      "features = model_features.dropna().values\n",
      "targets = target_values.values"
     ],
     "language": "python",
     "metadata": {},
     "outputs": []
    },
    {
     "cell_type": "heading",
     "level": 1,
     "metadata": {},
     "source": [
      "Model time!"
     ]
    },
    {
     "cell_type": "code",
     "collapsed": false,
     "input": [
      "from sklearn.preprocessing import MinMaxScaler\n",
      "scaler = MinMaxScaler()\n",
      "features = scaler.fit_transform(features)"
     ],
     "language": "python",
     "metadata": {},
     "outputs": []
    },
    {
     "cell_type": "code",
     "collapsed": false,
     "input": [
      "from sklearn.cross_validation import train_test_split\n",
      "X_train, X_test, y_train, y_test = train_test_split(features, targets.round(2), random_state=0)"
     ],
     "language": "python",
     "metadata": {},
     "outputs": []
    },
    {
     "cell_type": "code",
     "collapsed": false,
     "input": [
      "from sklearn.linear_model import LinearRegression\n",
      "lr = LinearRegression()\n",
      "lr.fit(X_train, y_train)"
     ],
     "language": "python",
     "metadata": {},
     "outputs": []
    },
    {
     "cell_type": "code",
     "collapsed": false,
     "input": [
      "output_test = lr.predict(X_test)"
     ],
     "language": "python",
     "metadata": {},
     "outputs": []
    },
    {
     "cell_type": "code",
     "collapsed": false,
     "input": [
      "np.mean(output_test - y_test)"
     ],
     "language": "python",
     "metadata": {},
     "outputs": []
    },
    {
     "cell_type": "code",
     "collapsed": false,
     "input": [
      "zip(y_test[0:15], output_test[0:15])"
     ],
     "language": "python",
     "metadata": {},
     "outputs": []
    },
    {
     "cell_type": "code",
     "collapsed": false,
     "input": [
      "from sklearn.metrics import explained_variance_score\n",
      "explained_variance_score(y_test, output_test)"
     ],
     "language": "python",
     "metadata": {},
     "outputs": []
    },
    {
     "cell_type": "code",
     "collapsed": false,
     "input": [
      "from sklearn.ensemble import RandomForestRegressor\n",
      "rfr = RandomForestRegressor()\n",
      "rfr.fit(X_train, y_train)"
     ],
     "language": "python",
     "metadata": {},
     "outputs": []
    },
    {
     "cell_type": "code",
     "collapsed": false,
     "input": [
      "output_test = rfr.predict(X_test)"
     ],
     "language": "python",
     "metadata": {},
     "outputs": []
    },
    {
     "cell_type": "code",
     "collapsed": false,
     "input": [
      "explained_variance_score(y_test, output_test)"
     ],
     "language": "python",
     "metadata": {},
     "outputs": []
    },
    {
     "cell_type": "code",
     "collapsed": false,
     "input": [
      "np.mean(output_test - y_test)"
     ],
     "language": "python",
     "metadata": {},
     "outputs": []
    },
    {
     "cell_type": "code",
     "collapsed": false,
     "input": [
      "zip(model_features.columns, rfr.feature_importances_.round(2))"
     ],
     "language": "python",
     "metadata": {},
     "outputs": []
    },
    {
     "cell_type": "code",
     "collapsed": false,
     "input": [],
     "language": "python",
     "metadata": {},
     "outputs": []
    }
   ],
   "metadata": {}
  }
 ]
}